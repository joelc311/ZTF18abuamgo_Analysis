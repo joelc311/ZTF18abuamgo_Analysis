{
 "cells": [
  {
   "metadata": {},
   "cell_type": "markdown",
   "source": "# Import Modules and Data",
   "id": "3c8a962b6fa0df41"
  },
  {
   "metadata": {
    "ExecuteTime": {
     "end_time": "2024-10-21T16:36:37.269847Z",
     "start_time": "2024-10-21T16:36:37.118975Z"
    }
   },
   "cell_type": "code",
   "source": [
    "import numpy as np\n",
    "import pandas as pd\n",
    "from matplotlib import pyplot as plt\n",
    "from astropy.cosmology import FlatLambdaCDM\n",
    "import astropy.units as u\n",
    "import astropy.constants as const\n",
    "\n",
    "path_09 = '/Users/joel/Library/CloudStorage/OneDrive-UniversityofSouthampton/Post Grad/ZTF18abuamgo_CLAGN_Project/2009_Analysis/'\n",
    "path_22 = '/Users/joel/Library/CloudStorage/OneDrive-UniversityofSouthampton/Post Grad/ZTF18abuamgo_CLAGN_Project/2022_Analysis/'\n",
    "path_24 = '/Users/joel/Library/CloudStorage/OneDrive-UniversityofSouthampton/Post Grad/ZTF18abuamgo_CLAGN_Project/2024_Analysis/'\n",
    "\n",
    "conti_results_09 = pd.read_csv(path_09 + 'mcmc_conti_results_host_sub.csv')\n",
    "line_results_09 = pd.read_csv(path_09 + 'mcmc_line_results_host_sub.csv') # Individual line parameters\n",
    "fur_results_09 = pd.read_csv(path_09 + 'mcmc_fur_results_host_sub.csv') # Combined line complex parameters\n",
    "\n",
    "conti_results_22 = pd.read_csv(path_22 + 'mcmc_conti_results.csv')\n",
    "line_results_22 = pd.read_csv(path_22 + 'mcmc_line_results.csv')\n",
    "fur_results_22 = pd.read_csv(path_22 + 'mcmc_fur_results.csv')\n",
    "\n",
    "conti_results_24 = pd.read_csv(path_24 + 'mcmc_conti_results_2022_host_sub.csv') # Host sub values are obtained by subtracting the 2022 host decomposition\n",
    "line_results_24 = pd.read_csv(path_24 + 'mcmc_line_results_2022_host_sub.csv')\n",
    "fur_results_24 = pd.read_csv(path_24 + 'mcmc_fur_results_2022_host_sub.csv')\n",
    "\n",
    "# Using 2024 Host\n",
    "conti_results_09_24_host = pd.read_csv(path_09 + 'mcmc_conti_results_2024_host_sub.csv')\n",
    "line_results_09_24_host = pd.read_csv(path_09 + 'mcmc_line_results_2024_host_sub.csv')\n",
    "fur_results_09_24_host = pd.read_csv(path_09 + 'mcmc_fur_results_2024_host_sub.csv')\n",
    "\n",
    "conti_results_22_24_host = pd.read_csv(path_22 + 'mcmc_conti_results_2024_host_sub.csv')\n",
    "line_results_22_24_host = pd.read_csv(path_22 + 'mcmc_line_results_2024_host_sub.csv')\n",
    "fur_results_22_24_host = pd.read_csv(path_22 + 'mcmc_fur_results_2024_host_sub.csv')\n",
    "\n",
    "conti_results_24_24_host = pd.read_csv(path_24 + 'mcmc_conti_results.csv')\n",
    "line_results_24_24_host = pd.read_csv(path_24 + 'mcmc_line_results.csv')\n",
    "fur_results_24_24_host = pd.read_csv(path_24 + 'mcmc_fur_results.csv')"
   ],
   "id": "initial_id",
   "outputs": [],
   "execution_count": 31
  },
  {
   "metadata": {},
   "cell_type": "markdown",
   "source": "# Read Spectroscopy Data",
   "id": "b0c30e4569738b9a"
  },
  {
   "metadata": {
    "ExecuteTime": {
     "end_time": "2024-10-21T16:36:37.274373Z",
     "start_time": "2024-10-21T16:36:37.270968Z"
    }
   },
   "cell_type": "code",
   "source": "line_results_24.iloc[1]",
   "id": "20de333649fcdfa0",
   "outputs": [
    {
     "data": {
      "text/plain": [
       "Unnamed: 0              1\n",
       "Line                Ha_na\n",
       "Type               narrow\n",
       "FWHM           353.079003\n",
       "Sigma          147.596003\n",
       "EW              27.672643\n",
       "Peak           6563.05382\n",
       "Area          1562.899227\n",
       "SNR             24.252847\n",
       "Name: 1, dtype: object"
      ]
     },
     "execution_count": 32,
     "metadata": {},
     "output_type": "execute_result"
    }
   ],
   "execution_count": 32
  },
  {
   "metadata": {
    "ExecuteTime": {
     "end_time": "2024-10-21T16:36:37.279294Z",
     "start_time": "2024-10-21T16:36:37.275281Z"
    }
   },
   "cell_type": "code",
   "source": [
    "# Continuum luminosity at 5100 Angstrom (log)\n",
    "L5100_09 = 10**conti_results_09['L5100'][0]\n",
    "L5100_err_09 = 10**conti_results_09['L5100_err'][0]\n",
    "print(\"2004 L5100: \" + str(L5100_09) + \" +- \" +  str(L5100_err_09))\n",
    "\n",
    "L5100_22 = 10**conti_results_22['L5100'][0]\n",
    "L5100_err_22 = 10**conti_results_22['L5100_err'][0]\n",
    "print(\"2022 L5100: \" + str(L5100_22) + \" +- \" +  str(L5100_err_22))\n",
    "\n",
    "L5100_24 = 10**conti_results_24['L5100'][0]\n",
    "L5100_err_24 = 10**conti_results_24['L5100_err'][0]\n",
    "print(\"2024 L5100: \" + str(L5100_24) + \" +- \" +  str(L5100_err_24))\n",
    "\n",
    "# Flux of narrow HB line\n",
    "FHB_na_24 = 565.521642*10**-17\n",
    "\n",
    "FHB_na_22 = 148.528509*10**-17 # amend this to be automatic!!!\n",
    "\n",
    "FHB_na_09 = 209.85185932670300*10**-17\n",
    "\n",
    "\n",
    "\n",
    "# 2024 Host\n",
    "print('')\n",
    "print('Using 2024 Host Subtraction')\n",
    "L5100_09_24_host = 10**conti_results_09_24_host['L5100'][0]\n",
    "L5100_err_09_24_host = 10**conti_results_09_24_host['L5100_err'][0]\n",
    "print(\"2004 L5100: \" + str(L5100_09_24_host) + \" +- \" +  str(L5100_err_09_24_host))\n",
    "\n",
    "L5100_22_24_host = 10**conti_results_22_24_host['L5100'][0]\n",
    "L5100_err_22_24_host = 10**conti_results_22_24_host['L5100_err'][0]\n",
    "print(\"2022 L5100: \" + str(L5100_22_24_host) + \" +- \" +  str(L5100_err_22_24_host))\n",
    "\n",
    "L5100_24_24_host = 10**conti_results_24_24_host['L5100'][0]\n",
    "L5100_err_24_24_host = 10**conti_results_24_24_host['L5100_err'][0]\n",
    "print(\"2024 L5100: \" + str(L5100_24_24_host) + \" +- \" +  str(L5100_err_24_24_host))"
   ],
   "id": "34356ea596e1953a",
   "outputs": [
    {
     "name": "stdout",
     "output_type": "stream",
     "text": [
      "2004 L5100: 8.591560244601408e+41 +- 1.2544332592963445\n",
      "2022 L5100: 2.0300186805254186e+43 +- 1.049702219558557\n",
      "2024 L5100: 4.374467426707733e+43 +- 1.023035121876466\n",
      "\n",
      "Using 2024 Host Subtraction\n",
      "2004 L5100: 9.047022209691965e+42 +- 1.0257583935176038\n",
      "2022 L5100: 3.34140114855875e+43 +- 1.006887022113553\n",
      "2024 L5100: 2.5250908669012195e+43 +- 1.0278703919881866\n"
     ]
    }
   ],
   "execution_count": 33
  },
  {
   "metadata": {},
   "cell_type": "markdown",
   "source": "# Flux to Luminosity Calculations",
   "id": "beddc6752da1d704"
  },
  {
   "metadata": {
    "ExecuteTime": {
     "end_time": "2024-10-21T16:36:37.284998Z",
     "start_time": "2024-10-21T16:36:37.280453Z"
    }
   },
   "cell_type": "code",
   "source": [
    "# Convert from flux to luminosity\n",
    "# Create a FlatLambdaCDM cosmology instance\n",
    "cosmo = FlatLambdaCDM(H0=70, Om0=0.3) # Hubble const km/s/Mpc and Density param for matter\n",
    "\n",
    "# Calculate luminosity distance to sources\n",
    "L_dist     = cosmo.luminosity_distance(0.074550).to(u.cm)\n",
    "L_dist_cm  = L_dist.value\n",
    "\n",
    "# Calculate luminosity from flux\n",
    "LHB_na_24  = (FHB_na_24 * 4 * np.pi * L_dist_cm**2)\n",
    "LHB_na_22  = (FHB_na_22 * 4 * np.pi * L_dist_cm**2)\n",
    "LHB_na_09  = (FHB_na_09 * 4 * np.pi * L_dist_cm**2)\n",
    "\n",
    "print(\"2024 L_narrow_HB: \" + str(LHB_na_24))\n",
    "print(\"2022 L_narrow_HB: \" + str(LHB_na_22))\n",
    "print(\"2004 L_narrow_HB: \" + str(LHB_na_09))"
   ],
   "id": "43dd68815aab4454",
   "outputs": [
    {
     "name": "stdout",
     "output_type": "stream",
     "text": [
      "2024 L_narrow_HB: 7.695602033298149e+40\n",
      "2022 L_narrow_HB: 2.0211716245213873e+40\n",
      "2004 L_narrow_HB: 2.8556579897007244e+40\n"
     ]
    }
   ],
   "execution_count": 34
  },
  {
   "metadata": {},
   "cell_type": "markdown",
   "source": [
    "# Bolometric Luminosity Correction (Netzer, 2019)\n",
    "\n",
    "k_BOL = c × (L(observed)/10^42 erg/sec))^d\n",
    "\n",
    "**Parameters:**\n",
    "L(5100), c = 40, d = -0.2, L(narrow HB), c = 4580, d = 0.18\n",
    "\n",
    "\n",
    "Assuming accretion through an optically thick, geometrically thin disk is the only energy production: L_AGN = η M_dot c^2, η is mass-radiation conversion efficiency.\n",
    "\n",
    "L_AGN = k_BOL = L_obs"
   ],
   "id": "7db464a5f8bb0f7f"
  },
  {
   "metadata": {
    "ExecuteTime": {
     "end_time": "2024-10-21T16:36:37.291435Z",
     "start_time": "2024-10-21T16:36:37.285639Z"
    }
   },
   "cell_type": "code",
   "source": [
    "def bol_correction(L, c, d, L_err=None):\n",
    "    k_BOL = c * (L/10**42)**d\n",
    "    # If error value provided, calculate and return uncertainty\n",
    "    if L_err != None:\n",
    "        k_BOL_err = abs(c*d * (L**(d-1) / 10**(42*d))) * L_err\n",
    "        return k_BOL, k_BOL_err\n",
    "    return k_BOL\n",
    "\n",
    "def bol_luminosity(k_BOL, L_obs, k_BOL_err=None, L_obs_err=None):\n",
    "    L_AGN = k_BOL * L_obs\n",
    "    if (k_BOL_err != None) & (L_obs_err != None):\n",
    "        L_AGN_err = L_AGN * np.sqrt((k_BOL_err/k_BOL)**2 + (L_obs_err/L_obs)**2)\n",
    "        return L_AGN, L_AGN_err \n",
    "    return L_AGN\n",
    "\n",
    "\n",
    "# Bolometric corrections\n",
    "k5100_09, k5100_err_09 = bol_correction(L5100_09, 40, -0.2, L5100_err_09)\n",
    "kHB_09 = bol_correction(LHB_na_09, 4580, 0.18)\n",
    "k5100_22, k5100_err_22 = bol_correction(L5100_22, 40, -0.2, L5100_err_22)\n",
    "kHB_22 = bol_correction(LHB_na_22, 4580, 0.18)\n",
    "k5100_24, k5100_err_24 = bol_correction(L5100_24, 40, -0.2, L5100_err_24)\n",
    "kHB_24 = bol_correction(LHB_na_24, 4580, 0.18)\n",
    "\n",
    "print(\"k_BOL from L5100 2004: \" + str(k5100_09) + \" +- \" +  str(k5100_err_09))\n",
    "#print(\"k_BOL from narrow HB 2004: \" + str(kHB_09))\n",
    "print(\"k_BOL from L5100 2022: \" + str(k5100_22) + \" +- \" +  str(k5100_err_22))\n",
    "#print(\"k_BOL from narrow HB 2022: \" + str(kHB_22))\n",
    "print(\"k_BOL from L5100 2024: \" + str(k5100_24) + \" +- \" +  str(k5100_err_24))\n",
    "#print(\"k_BOL from narrow HB 2024: \" + str(kHB_24))\n",
    "\n",
    "\n",
    "\n",
    "# Bolometric luminosity\n",
    "L_AGN_5100_09, L_AGN_5100_err_09 = bol_luminosity(k5100_09, L5100_09, k5100_err_09, L5100_err_09)\n",
    "L_AGN_HB_09 = bol_luminosity(kHB_09, LHB_na_22)\n",
    "L_AGN_5100_22, L_AGN_5100_err_22 = bol_luminosity(k5100_22, L5100_22, k5100_err_22, L5100_err_22)\n",
    "L_AGN_HB_22 = bol_luminosity(kHB_22, LHB_na_22)\n",
    "L_AGN_5100_24, L_AGN_5100_err_24 = bol_luminosity(k5100_24, L5100_24, k5100_err_24, L5100_err_24)\n",
    "L_AGN_HB_24 = bol_luminosity(kHB_24, LHB_na_24)\n",
    "\n",
    "print('')\n",
    "print(\"L_BOL from L5100 2004: \" + str(L_AGN_5100_09) + \" +- \" +  str(L_AGN_5100_err_09))\n",
    "#print(\"L_BOL from narrow HB 2004: \" + str(L_AGN_HB_09))\n",
    "print(\"L_BOL from L5100 2022: \" + str(L_AGN_5100_22) + \" +- \" +  str(L_AGN_5100_err_22))\n",
    "#print(\"L_BOL from narrow HB 2022: \" + str(L_AGN_HB_22))\n",
    "print(\"L_BOL from L5100 2024: \" + str(L_AGN_5100_24) + \" +- \" +  str(L_AGN_5100_err_24))\n",
    "#print(\"L_BOL from narrow HB 2024: \" + str(L_AGN_HB_24))\n",
    "\n",
    "\n",
    "\n",
    "# Repeat process looking at the 2024 host subtracted 5100A continuum\n",
    "# Bolometric Correction\n",
    "k5100_09_24_host, k5100_err_09_24_host = bol_correction(L5100_09_24_host, 40, -0.2, L5100_err_09_24_host)\n",
    "k5100_22_24_host, k5100_err_22_24_host = bol_correction(L5100_22_24_host, 40, -0.2, L5100_err_22_24_host)\n",
    "k5100_24_24_host, k5100_err_24_24_host = bol_correction(L5100_24_24_host, 40, -0.2, L5100_err_24_24_host)\n",
    "\n",
    "# Bolometric Luminosity\n",
    "L_AGN_5100_09_24_host, L_AGN_5100_err_09_24_host = bol_luminosity(k5100_09_24_host, L5100_09_24_host, k5100_err_09_24_host, L5100_err_09_24_host)\n",
    "L_AGN_5100_22_24_host, L_AGN_5100_err_22_24_host = bol_luminosity(k5100_22_24_host, L5100_22_24_host, k5100_err_22_24_host, L5100_err_22_24_host)\n",
    "L_AGN_5100_24_24_host, L_AGN_5100_err_24_24_host = bol_luminosity(k5100_24_24_host, L5100_24_24_host, k5100_err_24_24_host, L5100_err_24_24_host)\n",
    "\n",
    "print('')\n",
    "print('2024 Host Subtracted Results (Compared to 2022 Host)')\n",
    "print(\"k_BOL from L5100 2004: \" + str(k5100_09_24_host) + \" +- \" +  str(k5100_err_09_24_host))\n",
    "print(\"k_BOL from L5100 2022: \" + str(k5100_22_24_host) + \" +- \" +  str(k5100_err_22_24_host))\n",
    "print(\"k_BOL from L5100 2024: \" + str(k5100_24_24_host) + \" +- \" +  str(k5100_err_24_24_host))\n",
    "print('')\n",
    "print(\"L_BOL from L5100 2004: \" + str(L_AGN_5100_09_24_host) + \" +- \" +  str(L_AGN_5100_err_09_24_host))\n",
    "print(\"L_BOL from L5100 2022: \" + str(L_AGN_5100_22_24_host) + \" +- \" +  str(L_AGN_5100_err_22_24_host))\n",
    "print(\"L_BOL from L5100 2024: \" + str(L_AGN_5100_24_24_host) + \" +- \" +  str(L_AGN_5100_err_24_24_host))"
   ],
   "id": "eaeeb9ad5013820",
   "outputs": [
    {
     "name": "stdout",
     "output_type": "stream",
     "text": [
      "k_BOL from L5100 2004: 41.23306165121903 +- 1.2040682354618285e-41\n",
      "k_BOL from L5100 2022: 21.90584369172835 +- 2.2654582408629475e-43\n",
      "k_BOL from L5100 2024: 18.787757844495424 +- 8.787600528869212e-44\n",
      "\n",
      "L_BOL from L5100 2004: 3.542563332458123e+43 +- 52.748463436178604\n",
      "L_BOL from L5100 2022: 4.446927190687845e+44 +- 23.449995818353237\n",
      "L_BOL from L5100 2024: 8.218643471161792e+44 +- 19.601177764069295\n",
      "\n",
      "2024 Host Subtracted Results (Compared to 2022 Host)\n",
      "k_BOL from L5100 2004: 25.74891063868691 +- 5.838862909670529e-43\n",
      "k_BOL from L5100 2022: 19.827788048563853 +- 1.194968312734824e-43\n",
      "k_BOL from L5100 2024: 20.970297373631745 +- 1.7072453165216751e-43\n",
      "\n",
      "L_BOL from L5100 2004: 2.329509664235742e+44 +- 26.93522508278856\n",
      "L_BOL from L5100 2022: 6.625259375885071e+44 +- 20.359714359300646\n",
      "L_BOL from L5100 2024: 5.295190637436015e+44 +- 21.98161590973243\n"
     ]
    }
   ],
   "execution_count": 35
  },
  {
   "metadata": {},
   "cell_type": "markdown",
   "source": [
    "# Eddington Calculations (LaMassa, 2024)\n",
    "\n",
    "L_Edd = 1.26 x 10^38 * M_BH/M_sun\n",
    "\n",
    "λ_Edd = L_bol / L_Edd"
   ],
   "id": "4f529d2c83ed468b"
  },
  {
   "metadata": {
    "ExecuteTime": {
     "end_time": "2024-10-21T16:41:31.354609Z",
     "start_time": "2024-10-21T16:41:31.348730Z"
    }
   },
   "cell_type": "code",
   "source": [
    "#mass = 4.354e+07 # change to median of HA mass predictions.\n",
    "mass = 10**7.638937846159444\n",
    "\n",
    "mass = 4.568e+07 # mass from average of 2022, 2024\n",
    "\n",
    "print(r'SMBH mass: '+\"{:.2e}\".format(mass) + r\" M_sun\")\n",
    "\n",
    "# L_edd = 1.26x10^38 * M_bh\n",
    "L_edd = 1.26*10**38 * mass\n",
    "\n",
    "print(r'Eddington luminosity: '+\"{:.3e}\".format(L_edd) + r\" M_sun\")\n",
    "\n",
    "# Edd_param = L_bol / L_edd\n",
    "Edd_param_L5100_09 = L_AGN_5100_09 / L_edd\n",
    "Edd_param_HB_09 = L_AGN_HB_09 / L_edd\n",
    "Edd_param_L5100_22 = L_AGN_5100_22 / L_edd\n",
    "Edd_param_HB_22 = L_AGN_HB_22 / L_edd\n",
    "Edd_param_L5100_24 = L_AGN_5100_24 / L_edd\n",
    "Edd_param_HB_24 = L_AGN_HB_24 / L_edd\n",
    "\n",
    "print('')\n",
    "print('Eddington parameter from L5100 2004 L_bol: ' + str(Edd_param_L5100_09))\n",
    "#print('Eddington parameter from narrow HB 2004 L_bol: ' + str(Edd_param_HB_09))\n",
    "print('Eddington parameter from L5100 2022 L_bol: ' + str(Edd_param_L5100_22))\n",
    "#print('Eddington parameter from narrow HB 2022 L_bol: ' + str(Edd_param_HB_22))\n",
    "print('Eddington parameter from L5100 2024 L_bol: ' + str(Edd_param_L5100_24))\n",
    "#print('Eddington parameter from narrow HB 2024 L_bol: ' + str(Edd_param_HB_24))\n",
    "\n",
    "# 2024 Host Subtracted\n",
    "Edd_param_L5100_09_24_host = L_AGN_5100_09_24_host / L_edd\n",
    "Edd_param_L5100_22_24_host = L_AGN_5100_22_24_host / L_edd\n",
    "Edd_param_L5100_24_24_host = L_AGN_5100_24_24_host / L_edd\n",
    "print('')\n",
    "print('2024 Host Subtracted Results (Compared to 2022 Host)')\n",
    "print('Eddington parameter from L5100 2004 L_bol: ' + str(Edd_param_L5100_09_24_host))\n",
    "print('Eddington parameter from L5100 2022 L_bol: ' + str(Edd_param_L5100_22_24_host))\n",
    "print('Eddington parameter from L5100 2024 L_bol: ' + str(Edd_param_L5100_24_24_host))"
   ],
   "id": "467ac6677e421ede",
   "outputs": [
    {
     "name": "stdout",
     "output_type": "stream",
     "text": [
      "SMBH mass: 4.57e+07 M_sun\n",
      "Eddington luminosity: 5.756e+45 M_sun\n",
      "\n",
      "Eddington parameter from L5100 2004 L_bol: 0.006154899738098928\n",
      "Eddington parameter from L5100 2022 L_bol: 0.07726154321796634\n",
      "Eddington parameter from L5100 2024 L_bol: 0.14279187639274235\n",
      "\n",
      "2024 Host Subtracted Results (Compared to 2022 Host)\n",
      "Eddington parameter from L5100 2004 L_bol: 0.04047323103848272\n",
      "Eddington parameter from L5100 2022 L_bol: 0.11510819531115475\n",
      "Eddington parameter from L5100 2024 L_bol: 0.09199939255545853\n"
     ]
    }
   ],
   "execution_count": 45
  },
  {
   "metadata": {},
   "cell_type": "markdown",
   "source": [
    "# Accretion Rate\n",
    "\n",
    "M_dot = L_bol/eta c^2\n",
    "\n",
    "eta = radiative efficiency (dimensionless)\n",
    "\n",
    "For values:     c = 3e10 [cm/s],  L_bol [erg/s]\n",
    "\n",
    "Multiply by 3.154e7/1.989e33 to get M_dot [M_sun/yr]\n"
   ],
   "id": "9742311ef32322f5"
  },
  {
   "metadata": {
    "ExecuteTime": {
     "end_time": "2024-10-21T16:41:40.773615Z",
     "start_time": "2024-10-21T16:41:40.768390Z"
    }
   },
   "cell_type": "code",
   "source": [
    "r_eff = 0.1\n",
    "\n",
    "M_dot_09 = L_AGN_5100_09 / (r_eff * 3e10**2) * (3.154e7/1.989e33)\n",
    "M_dot_22 = L_AGN_5100_22 / (r_eff * 3e10**2) * (3.154e7/1.989e33)\n",
    "M_dot_24 = L_AGN_5100_24 / (r_eff * 3e10**2) * (3.154e7/1.989e33)\n",
    "\n",
    "# Uhhhhmmmmm yeahhhh its just proportional to Lbol not sure the values are quite right\n",
    "print(M_dot_09)\n",
    "print(M_dot_22)\n",
    "print(M_dot_24)"
   ],
   "id": "dcbac598f048e2d9",
   "outputs": [
    {
     "name": "stdout",
     "output_type": "stream",
     "text": [
      "0.006241687475880073\n",
      "0.0783509768137504\n",
      "0.14480532656300926\n"
     ]
    }
   ],
   "execution_count": 46
  },
  {
   "metadata": {},
   "cell_type": "markdown",
   "source": "# Investigating Compliance with Disk Wind Supporting BLR",
   "id": "32794c850bb51e94"
  },
  {
   "metadata": {
    "ExecuteTime": {
     "end_time": "2024-11-16T17:45:21.815968Z",
     "start_time": "2024-11-16T17:45:21.794897Z"
    }
   },
   "cell_type": "code",
   "source": [
    "# Values taken from NT & TDEs presentation\n",
    "L_bol_04 = 3.5e43\n",
    "L_bol_22 = 1.6e44\n",
    "\n",
    "# Jana paper intro, for disk wind models BLR not sustained below L_crit < 2.3x10^40 * M_8^(2/3) erg/s\n",
    "M = 4e7\n",
    "M_8 = M / 1e8 # Convert BH mass into units of 10^8 M_sol\n",
    "L_crit = 2.3e40 * M_8**(2/3)\n",
    "L_crit"
   ],
   "id": "913748b0b6068616",
   "outputs": [
    {
     "data": {
      "text/plain": [
       "1.248632103633657e+40"
      ]
     },
     "execution_count": 4,
     "metadata": {},
     "output_type": "execute_result"
    }
   ],
   "execution_count": 4
  },
  {
   "metadata": {},
   "cell_type": "code",
   "outputs": [],
   "execution_count": null,
   "source": "",
   "id": "ee392f9539a34079"
  }
 ],
 "metadata": {
  "kernelspec": {
   "display_name": "Python 3",
   "language": "python",
   "name": "python3"
  },
  "language_info": {
   "codemirror_mode": {
    "name": "ipython",
    "version": 2
   },
   "file_extension": ".py",
   "mimetype": "text/x-python",
   "name": "python",
   "nbconvert_exporter": "python",
   "pygments_lexer": "ipython2",
   "version": "2.7.6"
  }
 },
 "nbformat": 4,
 "nbformat_minor": 5
}
